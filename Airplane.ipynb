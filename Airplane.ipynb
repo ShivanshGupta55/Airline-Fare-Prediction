{
  "nbformat": 4,
  "nbformat_minor": 0,
  "metadata": {
    "celltoolbar": "Raw Cell Format",
    "kernelspec": {
      "display_name": "Python 3",
      "language": "python",
      "name": "python3"
    },
    "language_info": {
      "codemirror_mode": {
        "name": "ipython",
        "version": 3
      },
      "file_extension": ".py",
      "mimetype": "text/x-python",
      "name": "python",
      "nbconvert_exporter": "python",
      "pygments_lexer": "ipython3",
      "version": "3.7.1"
    },
    "colab": {
      "name": "Airplane.ipynb",
      "provenance": [],
      "collapsed_sections": [],
      "toc_visible": true
    }
  },
  "cells": [
    {
      "cell_type": "code",
      "metadata": {
        "id": "UciV11CZ7dIP",
        "colab_type": "code",
        "colab": {}
      },
      "source": [
        "#importing Libraries\n",
        "import numpy as np\n",
        "import pandas as pd\n",
        "import random as rnd\n",
        "\n",
        "import matplotlib.pyplot as plt\n",
        "import seaborn as sns\n",
        "%matplotlib inline\n",
        "\n",
        "\n",
        "from sklearn.linear_model import LinearRegression, ElasticNet, Lasso, Ridge\n",
        "from sklearn.tree import DecisionTreeRegressor\n",
        "from sklearn.ensemble import RandomForestRegressor\n",
        "from sklearn.neighbors import KNeighborsRegressor\n",
        "from sklearn.naive_bayes import GaussianNB\n",
        "import xgboost as xgb\n"
      ],
      "execution_count": 0,
      "outputs": []
    },
    {
      "cell_type": "code",
      "metadata": {
        "id": "xr0PekhN7dIS",
        "colab_type": "code",
        "colab": {}
      },
      "source": [
        "#reading dataset\n",
        "train_df = pd.read_csv('/content/Train.csv')\n",
        "test_df = pd.read_csv('/content/test.csv')"
      ],
      "execution_count": 0,
      "outputs": []
    },
    {
      "cell_type": "code",
      "metadata": {
        "id": "Ey1Jdozt7dIV",
        "colab_type": "code",
        "outputId": "7f07428c-024a-465c-da4c-bf6c6e0f4db8",
        "colab": {
          "base_uri": "https://localhost:8080/",
          "height": 52
        }
      },
      "source": [
        "print(train_df.columns.values)"
      ],
      "execution_count": 43,
      "outputs": [
        {
          "output_type": "stream",
          "text": [
            "['SL. No.' 'Class' 'Age' 'time' 'adv_bookdays' 'weekday' 'month'\n",
            " 'monthday' 'demand' 'from_ind' 'to_ind' 'Fare']\n"
          ],
          "name": "stdout"
        }
      ]
    },
    {
      "cell_type": "code",
      "metadata": {
        "id": "eSaeL0Ao7dIZ",
        "colab_type": "code",
        "outputId": "fb339be8-8b9f-401e-e673-2dd59c75a6e6",
        "colab": {
          "base_uri": "https://localhost:8080/",
          "height": 195
        }
      },
      "source": [
        "train_df.head()"
      ],
      "execution_count": 44,
      "outputs": [
        {
          "output_type": "execute_result",
          "data": {
            "text/html": [
              "<div>\n",
              "<style scoped>\n",
              "    .dataframe tbody tr th:only-of-type {\n",
              "        vertical-align: middle;\n",
              "    }\n",
              "\n",
              "    .dataframe tbody tr th {\n",
              "        vertical-align: top;\n",
              "    }\n",
              "\n",
              "    .dataframe thead th {\n",
              "        text-align: right;\n",
              "    }\n",
              "</style>\n",
              "<table border=\"1\" class=\"dataframe\">\n",
              "  <thead>\n",
              "    <tr style=\"text-align: right;\">\n",
              "      <th></th>\n",
              "      <th>SL. No.</th>\n",
              "      <th>Class</th>\n",
              "      <th>Age</th>\n",
              "      <th>time</th>\n",
              "      <th>adv_bookdays</th>\n",
              "      <th>weekday</th>\n",
              "      <th>month</th>\n",
              "      <th>monthday</th>\n",
              "      <th>demand</th>\n",
              "      <th>from_ind</th>\n",
              "      <th>to_ind</th>\n",
              "      <th>Fare</th>\n",
              "    </tr>\n",
              "  </thead>\n",
              "  <tbody>\n",
              "    <tr>\n",
              "      <th>0</th>\n",
              "      <td>1</td>\n",
              "      <td>0</td>\n",
              "      <td>77.2</td>\n",
              "      <td>39</td>\n",
              "      <td>69</td>\n",
              "      <td>0</td>\n",
              "      <td>0</td>\n",
              "      <td>3</td>\n",
              "      <td>1</td>\n",
              "      <td>5</td>\n",
              "      <td>4</td>\n",
              "      <td>11854.27</td>\n",
              "    </tr>\n",
              "    <tr>\n",
              "      <th>1</th>\n",
              "      <td>2</td>\n",
              "      <td>0</td>\n",
              "      <td>45.3</td>\n",
              "      <td>34</td>\n",
              "      <td>10</td>\n",
              "      <td>4</td>\n",
              "      <td>1</td>\n",
              "      <td>11</td>\n",
              "      <td>1</td>\n",
              "      <td>2</td>\n",
              "      <td>4</td>\n",
              "      <td>14968.50</td>\n",
              "    </tr>\n",
              "    <tr>\n",
              "      <th>2</th>\n",
              "      <td>3</td>\n",
              "      <td>0</td>\n",
              "      <td>70.9</td>\n",
              "      <td>36</td>\n",
              "      <td>17</td>\n",
              "      <td>1</td>\n",
              "      <td>2</td>\n",
              "      <td>7</td>\n",
              "      <td>1</td>\n",
              "      <td>1</td>\n",
              "      <td>4</td>\n",
              "      <td>5859.32</td>\n",
              "    </tr>\n",
              "    <tr>\n",
              "      <th>3</th>\n",
              "      <td>4</td>\n",
              "      <td>0</td>\n",
              "      <td>35.1</td>\n",
              "      <td>31</td>\n",
              "      <td>28</td>\n",
              "      <td>1</td>\n",
              "      <td>4</td>\n",
              "      <td>9</td>\n",
              "      <td>1</td>\n",
              "      <td>7</td>\n",
              "      <td>4</td>\n",
              "      <td>2774.19</td>\n",
              "    </tr>\n",
              "    <tr>\n",
              "      <th>4</th>\n",
              "      <td>5</td>\n",
              "      <td>0</td>\n",
              "      <td>41.8</td>\n",
              "      <td>33</td>\n",
              "      <td>17</td>\n",
              "      <td>4</td>\n",
              "      <td>6</td>\n",
              "      <td>28</td>\n",
              "      <td>1</td>\n",
              "      <td>7</td>\n",
              "      <td>4</td>\n",
              "      <td>3833.66</td>\n",
              "    </tr>\n",
              "  </tbody>\n",
              "</table>\n",
              "</div>"
            ],
            "text/plain": [
              "   SL. No.  Class   Age  time  ...  demand  from_ind  to_ind      Fare\n",
              "0        1      0  77.2    39  ...       1         5       4  11854.27\n",
              "1        2      0  45.3    34  ...       1         2       4  14968.50\n",
              "2        3      0  70.9    36  ...       1         1       4   5859.32\n",
              "3        4      0  35.1    31  ...       1         7       4   2774.19\n",
              "4        5      0  41.8    33  ...       1         7       4   3833.66\n",
              "\n",
              "[5 rows x 12 columns]"
            ]
          },
          "metadata": {
            "tags": []
          },
          "execution_count": 44
        }
      ]
    },
    {
      "cell_type": "code",
      "metadata": {
        "id": "d_zc5uU47dIe",
        "colab_type": "code",
        "outputId": "681becf2-c6a0-48a7-e658-adeabd6b8229",
        "colab": {
          "base_uri": "https://localhost:8080/",
          "height": 633
        }
      },
      "source": [
        "train_df.info()\n",
        "print('_'*40)\n",
        "test_df.info()"
      ],
      "execution_count": 45,
      "outputs": [
        {
          "output_type": "stream",
          "text": [
            "<class 'pandas.core.frame.DataFrame'>\n",
            "RangeIndex: 4999 entries, 0 to 4998\n",
            "Data columns (total 12 columns):\n",
            "SL. No.         4999 non-null int64\n",
            "Class           4999 non-null int64\n",
            "Age             4999 non-null float64\n",
            "time            4999 non-null int64\n",
            "adv_bookdays    4999 non-null int64\n",
            "weekday         4999 non-null int64\n",
            "month           4999 non-null int64\n",
            "monthday        4999 non-null int64\n",
            "demand          4999 non-null int64\n",
            "from_ind        4999 non-null int64\n",
            "to_ind          4999 non-null int64\n",
            "Fare            4999 non-null float64\n",
            "dtypes: float64(2), int64(10)\n",
            "memory usage: 468.8 KB\n",
            "________________________________________\n",
            "<class 'pandas.core.frame.DataFrame'>\n",
            "RangeIndex: 1001 entries, 0 to 1000\n",
            "Data columns (total 12 columns):\n",
            "SL. No.         1001 non-null int64\n",
            "Class           1001 non-null int64\n",
            "Age             1001 non-null float64\n",
            "time            1001 non-null int64\n",
            "adv_bookdays    1001 non-null int64\n",
            "weekday         1001 non-null int64\n",
            "month           1001 non-null int64\n",
            "monthday        1001 non-null int64\n",
            "demand          1001 non-null int64\n",
            "from_ind        1001 non-null int64\n",
            "to_ind          1001 non-null int64\n",
            "Fare            0 non-null float64\n",
            "dtypes: float64(2), int64(10)\n",
            "memory usage: 94.0 KB\n"
          ],
          "name": "stdout"
        }
      ]
    },
    {
      "cell_type": "code",
      "metadata": {
        "id": "XkiJxzTL7dIg",
        "colab_type": "code",
        "outputId": "e1f34e01-7139-412a-c7cd-f434fa95457b",
        "colab": {
          "base_uri": "https://localhost:8080/",
          "height": 304
        }
      },
      "source": [
        "train_df.describe()"
      ],
      "execution_count": 46,
      "outputs": [
        {
          "output_type": "execute_result",
          "data": {
            "text/html": [
              "<div>\n",
              "<style scoped>\n",
              "    .dataframe tbody tr th:only-of-type {\n",
              "        vertical-align: middle;\n",
              "    }\n",
              "\n",
              "    .dataframe tbody tr th {\n",
              "        vertical-align: top;\n",
              "    }\n",
              "\n",
              "    .dataframe thead th {\n",
              "        text-align: right;\n",
              "    }\n",
              "</style>\n",
              "<table border=\"1\" class=\"dataframe\">\n",
              "  <thead>\n",
              "    <tr style=\"text-align: right;\">\n",
              "      <th></th>\n",
              "      <th>SL. No.</th>\n",
              "      <th>Class</th>\n",
              "      <th>Age</th>\n",
              "      <th>time</th>\n",
              "      <th>adv_bookdays</th>\n",
              "      <th>weekday</th>\n",
              "      <th>month</th>\n",
              "      <th>monthday</th>\n",
              "      <th>demand</th>\n",
              "      <th>from_ind</th>\n",
              "      <th>to_ind</th>\n",
              "      <th>Fare</th>\n",
              "    </tr>\n",
              "  </thead>\n",
              "  <tbody>\n",
              "    <tr>\n",
              "      <th>count</th>\n",
              "      <td>4999.000000</td>\n",
              "      <td>4999.000000</td>\n",
              "      <td>4999.000000</td>\n",
              "      <td>4999.000000</td>\n",
              "      <td>4999.000000</td>\n",
              "      <td>4999.000000</td>\n",
              "      <td>4999.000000</td>\n",
              "      <td>4999.000000</td>\n",
              "      <td>4999.000000</td>\n",
              "      <td>4999.000000</td>\n",
              "      <td>4999.000000</td>\n",
              "      <td>4999.000000</td>\n",
              "    </tr>\n",
              "    <tr>\n",
              "      <th>mean</th>\n",
              "      <td>3103.027005</td>\n",
              "      <td>0.257051</td>\n",
              "      <td>48.478436</td>\n",
              "      <td>37.325465</td>\n",
              "      <td>23.414283</td>\n",
              "      <td>3.035207</td>\n",
              "      <td>4.331266</td>\n",
              "      <td>15.372474</td>\n",
              "      <td>1.267654</td>\n",
              "      <td>3.606721</td>\n",
              "      <td>3.985997</td>\n",
              "      <td>8525.626751</td>\n",
              "    </tr>\n",
              "    <tr>\n",
              "      <th>std</th>\n",
              "      <td>1816.650469</td>\n",
              "      <td>0.437052</td>\n",
              "      <td>18.635317</td>\n",
              "      <td>5.992250</td>\n",
              "      <td>15.141569</td>\n",
              "      <td>2.006582</td>\n",
              "      <td>2.817279</td>\n",
              "      <td>8.862410</td>\n",
              "      <td>0.538230</td>\n",
              "      <td>1.990615</td>\n",
              "      <td>2.043300</td>\n",
              "      <td>6521.815943</td>\n",
              "    </tr>\n",
              "    <tr>\n",
              "      <th>min</th>\n",
              "      <td>1.000000</td>\n",
              "      <td>0.000000</td>\n",
              "      <td>12.800000</td>\n",
              "      <td>24.000000</td>\n",
              "      <td>0.000000</td>\n",
              "      <td>0.000000</td>\n",
              "      <td>0.000000</td>\n",
              "      <td>1.000000</td>\n",
              "      <td>1.000000</td>\n",
              "      <td>1.000000</td>\n",
              "      <td>1.000000</td>\n",
              "      <td>1132.820000</td>\n",
              "    </tr>\n",
              "    <tr>\n",
              "      <th>25%</th>\n",
              "      <td>1507.500000</td>\n",
              "      <td>0.000000</td>\n",
              "      <td>33.900000</td>\n",
              "      <td>33.000000</td>\n",
              "      <td>12.000000</td>\n",
              "      <td>1.000000</td>\n",
              "      <td>2.000000</td>\n",
              "      <td>8.000000</td>\n",
              "      <td>1.000000</td>\n",
              "      <td>2.000000</td>\n",
              "      <td>2.000000</td>\n",
              "      <td>4359.290000</td>\n",
              "    </tr>\n",
              "    <tr>\n",
              "      <th>50%</th>\n",
              "      <td>3067.000000</td>\n",
              "      <td>0.000000</td>\n",
              "      <td>48.100000</td>\n",
              "      <td>38.000000</td>\n",
              "      <td>21.000000</td>\n",
              "      <td>3.000000</td>\n",
              "      <td>4.000000</td>\n",
              "      <td>15.000000</td>\n",
              "      <td>1.000000</td>\n",
              "      <td>3.000000</td>\n",
              "      <td>4.000000</td>\n",
              "      <td>6626.410000</td>\n",
              "    </tr>\n",
              "    <tr>\n",
              "      <th>75%</th>\n",
              "      <td>4679.500000</td>\n",
              "      <td>1.000000</td>\n",
              "      <td>64.100000</td>\n",
              "      <td>42.000000</td>\n",
              "      <td>33.000000</td>\n",
              "      <td>5.000000</td>\n",
              "      <td>7.000000</td>\n",
              "      <td>23.000000</td>\n",
              "      <td>1.000000</td>\n",
              "      <td>5.000000</td>\n",
              "      <td>6.000000</td>\n",
              "      <td>10546.235000</td>\n",
              "    </tr>\n",
              "    <tr>\n",
              "      <th>max</th>\n",
              "      <td>6234.000000</td>\n",
              "      <td>1.000000</td>\n",
              "      <td>83.700000</td>\n",
              "      <td>48.000000</td>\n",
              "      <td>95.000000</td>\n",
              "      <td>6.000000</td>\n",
              "      <td>11.000000</td>\n",
              "      <td>31.000000</td>\n",
              "      <td>5.000000</td>\n",
              "      <td>7.000000</td>\n",
              "      <td>7.000000</td>\n",
              "      <td>84141.470000</td>\n",
              "    </tr>\n",
              "  </tbody>\n",
              "</table>\n",
              "</div>"
            ],
            "text/plain": [
              "           SL. No.        Class  ...       to_ind          Fare\n",
              "count  4999.000000  4999.000000  ...  4999.000000   4999.000000\n",
              "mean   3103.027005     0.257051  ...     3.985997   8525.626751\n",
              "std    1816.650469     0.437052  ...     2.043300   6521.815943\n",
              "min       1.000000     0.000000  ...     1.000000   1132.820000\n",
              "25%    1507.500000     0.000000  ...     2.000000   4359.290000\n",
              "50%    3067.000000     0.000000  ...     4.000000   6626.410000\n",
              "75%    4679.500000     1.000000  ...     6.000000  10546.235000\n",
              "max    6234.000000     1.000000  ...     7.000000  84141.470000\n",
              "\n",
              "[8 rows x 12 columns]"
            ]
          },
          "metadata": {
            "tags": []
          },
          "execution_count": 46
        }
      ]
    },
    {
      "cell_type": "code",
      "metadata": {
        "id": "Sc7R_kRy7dIn",
        "colab_type": "code",
        "outputId": "74ecd138-a748-47c5-9b73-f40684c45a82",
        "colab": {
          "base_uri": "https://localhost:8080/",
          "height": 106
        }
      },
      "source": [
        "train_df[['Class','Fare']].groupby(['Class'], as_index=False).mean().sort_values(by = 'Fare', ascending = False)"
      ],
      "execution_count": 47,
      "outputs": [
        {
          "output_type": "execute_result",
          "data": {
            "text/html": [
              "<div>\n",
              "<style scoped>\n",
              "    .dataframe tbody tr th:only-of-type {\n",
              "        vertical-align: middle;\n",
              "    }\n",
              "\n",
              "    .dataframe tbody tr th {\n",
              "        vertical-align: top;\n",
              "    }\n",
              "\n",
              "    .dataframe thead th {\n",
              "        text-align: right;\n",
              "    }\n",
              "</style>\n",
              "<table border=\"1\" class=\"dataframe\">\n",
              "  <thead>\n",
              "    <tr style=\"text-align: right;\">\n",
              "      <th></th>\n",
              "      <th>Class</th>\n",
              "      <th>Fare</th>\n",
              "    </tr>\n",
              "  </thead>\n",
              "  <tbody>\n",
              "    <tr>\n",
              "      <th>1</th>\n",
              "      <td>1</td>\n",
              "      <td>15338.180101</td>\n",
              "    </tr>\n",
              "    <tr>\n",
              "      <th>0</th>\n",
              "      <td>0</td>\n",
              "      <td>6168.564001</td>\n",
              "    </tr>\n",
              "  </tbody>\n",
              "</table>\n",
              "</div>"
            ],
            "text/plain": [
              "   Class          Fare\n",
              "1      1  15338.180101\n",
              "0      0   6168.564001"
            ]
          },
          "metadata": {
            "tags": []
          },
          "execution_count": 47
        }
      ]
    },
    {
      "cell_type": "markdown",
      "metadata": {
        "id": "LZgVfMxUB59A",
        "colab_type": "text"
      },
      "source": [
        "Fare is higher for Business Class."
      ]
    },
    {
      "cell_type": "code",
      "metadata": {
        "id": "iirBQetV8EKB",
        "colab_type": "code",
        "colab": {}
      },
      "source": [
        "#converting the Column 'Age' to int type\n",
        "train_df['Age'] = train_df['Age'].astype(int)\n",
        "test_df['Age'] = test_df['Age'].astype(int)"
      ],
      "execution_count": 0,
      "outputs": []
    },
    {
      "cell_type": "code",
      "metadata": {
        "id": "Sfolmy227dIq",
        "colab_type": "code",
        "outputId": "8613a0e2-810e-4fd8-b87e-9cf0ba5a70f4",
        "colab": {
          "base_uri": "https://localhost:8080/",
          "height": 402
        }
      },
      "source": [
        "train_df[['month','Fare']].groupby(['month'], as_index = False).mean().sort_values(by = 'Fare', ascending = False)"
      ],
      "execution_count": 49,
      "outputs": [
        {
          "output_type": "execute_result",
          "data": {
            "text/html": [
              "<div>\n",
              "<style scoped>\n",
              "    .dataframe tbody tr th:only-of-type {\n",
              "        vertical-align: middle;\n",
              "    }\n",
              "\n",
              "    .dataframe tbody tr th {\n",
              "        vertical-align: top;\n",
              "    }\n",
              "\n",
              "    .dataframe thead th {\n",
              "        text-align: right;\n",
              "    }\n",
              "</style>\n",
              "<table border=\"1\" class=\"dataframe\">\n",
              "  <thead>\n",
              "    <tr style=\"text-align: right;\">\n",
              "      <th></th>\n",
              "      <th>month</th>\n",
              "      <th>Fare</th>\n",
              "    </tr>\n",
              "  </thead>\n",
              "  <tbody>\n",
              "    <tr>\n",
              "      <th>3</th>\n",
              "      <td>3</td>\n",
              "      <td>8957.985551</td>\n",
              "    </tr>\n",
              "    <tr>\n",
              "      <th>0</th>\n",
              "      <td>0</td>\n",
              "      <td>8853.969198</td>\n",
              "    </tr>\n",
              "    <tr>\n",
              "      <th>6</th>\n",
              "      <td>6</td>\n",
              "      <td>8847.637240</td>\n",
              "    </tr>\n",
              "    <tr>\n",
              "      <th>8</th>\n",
              "      <td>8</td>\n",
              "      <td>8662.810515</td>\n",
              "    </tr>\n",
              "    <tr>\n",
              "      <th>5</th>\n",
              "      <td>5</td>\n",
              "      <td>8598.179362</td>\n",
              "    </tr>\n",
              "    <tr>\n",
              "      <th>2</th>\n",
              "      <td>2</td>\n",
              "      <td>8448.169910</td>\n",
              "    </tr>\n",
              "    <tr>\n",
              "      <th>1</th>\n",
              "      <td>1</td>\n",
              "      <td>8378.391221</td>\n",
              "    </tr>\n",
              "    <tr>\n",
              "      <th>4</th>\n",
              "      <td>4</td>\n",
              "      <td>8324.655923</td>\n",
              "    </tr>\n",
              "    <tr>\n",
              "      <th>7</th>\n",
              "      <td>7</td>\n",
              "      <td>8233.266275</td>\n",
              "    </tr>\n",
              "    <tr>\n",
              "      <th>9</th>\n",
              "      <td>9</td>\n",
              "      <td>7767.484515</td>\n",
              "    </tr>\n",
              "    <tr>\n",
              "      <th>10</th>\n",
              "      <td>10</td>\n",
              "      <td>7086.458333</td>\n",
              "    </tr>\n",
              "    <tr>\n",
              "      <th>11</th>\n",
              "      <td>11</td>\n",
              "      <td>2955.460000</td>\n",
              "    </tr>\n",
              "  </tbody>\n",
              "</table>\n",
              "</div>"
            ],
            "text/plain": [
              "    month         Fare\n",
              "3       3  8957.985551\n",
              "0       0  8853.969198\n",
              "6       6  8847.637240\n",
              "8       8  8662.810515\n",
              "5       5  8598.179362\n",
              "2       2  8448.169910\n",
              "1       1  8378.391221\n",
              "4       4  8324.655923\n",
              "7       7  8233.266275\n",
              "9       9  7767.484515\n",
              "10     10  7086.458333\n",
              "11     11  2955.460000"
            ]
          },
          "metadata": {
            "tags": []
          },
          "execution_count": 49
        }
      ]
    },
    {
      "cell_type": "code",
      "metadata": {
        "id": "EyKqCaKK7dIt",
        "colab_type": "code",
        "outputId": "544b4f60-705a-4d22-ef5e-1b5a07efa967",
        "colab": {
          "base_uri": "https://localhost:8080/",
          "height": 195
        }
      },
      "source": [
        "train_df[['demand','Fare']].groupby(['demand'], as_index = False).mean().sort_values(by = 'Fare', ascending = False)"
      ],
      "execution_count": 50,
      "outputs": [
        {
          "output_type": "execute_result",
          "data": {
            "text/html": [
              "<div>\n",
              "<style scoped>\n",
              "    .dataframe tbody tr th:only-of-type {\n",
              "        vertical-align: middle;\n",
              "    }\n",
              "\n",
              "    .dataframe tbody tr th {\n",
              "        vertical-align: top;\n",
              "    }\n",
              "\n",
              "    .dataframe thead th {\n",
              "        text-align: right;\n",
              "    }\n",
              "</style>\n",
              "<table border=\"1\" class=\"dataframe\">\n",
              "  <thead>\n",
              "    <tr style=\"text-align: right;\">\n",
              "      <th></th>\n",
              "      <th>demand</th>\n",
              "      <th>Fare</th>\n",
              "    </tr>\n",
              "  </thead>\n",
              "  <tbody>\n",
              "    <tr>\n",
              "      <th>0</th>\n",
              "      <td>1</td>\n",
              "      <td>8612.244973</td>\n",
              "    </tr>\n",
              "    <tr>\n",
              "      <th>1</th>\n",
              "      <td>2</td>\n",
              "      <td>8366.712090</td>\n",
              "    </tr>\n",
              "    <tr>\n",
              "      <th>2</th>\n",
              "      <td>3</td>\n",
              "      <td>7761.875098</td>\n",
              "    </tr>\n",
              "    <tr>\n",
              "      <th>3</th>\n",
              "      <td>4</td>\n",
              "      <td>6161.112381</td>\n",
              "    </tr>\n",
              "    <tr>\n",
              "      <th>4</th>\n",
              "      <td>5</td>\n",
              "      <td>3129.196667</td>\n",
              "    </tr>\n",
              "  </tbody>\n",
              "</table>\n",
              "</div>"
            ],
            "text/plain": [
              "   demand         Fare\n",
              "0       1  8612.244973\n",
              "1       2  8366.712090\n",
              "2       3  7761.875098\n",
              "3       4  6161.112381\n",
              "4       5  3129.196667"
            ]
          },
          "metadata": {
            "tags": []
          },
          "execution_count": 50
        }
      ]
    },
    {
      "cell_type": "code",
      "metadata": {
        "id": "5zWcNw_97dIw",
        "colab_type": "code",
        "outputId": "a0f247be-671a-42ca-f094-5971de7dc35d",
        "colab": {
          "base_uri": "https://localhost:8080/",
          "height": 254
        }
      },
      "source": [
        "train_df[['weekday','Fare']].groupby(['weekday'], as_index = False).mean().sort_values(by = 'weekday', ascending = False)"
      ],
      "execution_count": 51,
      "outputs": [
        {
          "output_type": "execute_result",
          "data": {
            "text/html": [
              "<div>\n",
              "<style scoped>\n",
              "    .dataframe tbody tr th:only-of-type {\n",
              "        vertical-align: middle;\n",
              "    }\n",
              "\n",
              "    .dataframe tbody tr th {\n",
              "        vertical-align: top;\n",
              "    }\n",
              "\n",
              "    .dataframe thead th {\n",
              "        text-align: right;\n",
              "    }\n",
              "</style>\n",
              "<table border=\"1\" class=\"dataframe\">\n",
              "  <thead>\n",
              "    <tr style=\"text-align: right;\">\n",
              "      <th></th>\n",
              "      <th>weekday</th>\n",
              "      <th>Fare</th>\n",
              "    </tr>\n",
              "  </thead>\n",
              "  <tbody>\n",
              "    <tr>\n",
              "      <th>6</th>\n",
              "      <td>6</td>\n",
              "      <td>10845.146253</td>\n",
              "    </tr>\n",
              "    <tr>\n",
              "      <th>5</th>\n",
              "      <td>5</td>\n",
              "      <td>7831.057510</td>\n",
              "    </tr>\n",
              "    <tr>\n",
              "      <th>4</th>\n",
              "      <td>4</td>\n",
              "      <td>7487.000370</td>\n",
              "    </tr>\n",
              "    <tr>\n",
              "      <th>3</th>\n",
              "      <td>3</td>\n",
              "      <td>7341.323884</td>\n",
              "    </tr>\n",
              "    <tr>\n",
              "      <th>2</th>\n",
              "      <td>2</td>\n",
              "      <td>7282.101344</td>\n",
              "    </tr>\n",
              "    <tr>\n",
              "      <th>1</th>\n",
              "      <td>1</td>\n",
              "      <td>7422.850514</td>\n",
              "    </tr>\n",
              "    <tr>\n",
              "      <th>0</th>\n",
              "      <td>0</td>\n",
              "      <td>11445.205244</td>\n",
              "    </tr>\n",
              "  </tbody>\n",
              "</table>\n",
              "</div>"
            ],
            "text/plain": [
              "   weekday          Fare\n",
              "6        6  10845.146253\n",
              "5        5   7831.057510\n",
              "4        4   7487.000370\n",
              "3        3   7341.323884\n",
              "2        2   7282.101344\n",
              "1        1   7422.850514\n",
              "0        0  11445.205244"
            ]
          },
          "metadata": {
            "tags": []
          },
          "execution_count": 51
        }
      ]
    },
    {
      "cell_type": "code",
      "metadata": {
        "id": "V993wAMEC4JC",
        "colab_type": "code",
        "outputId": "67e6ac38-9fdc-43c5-99ef-06e304825aa1",
        "colab": {
          "base_uri": "https://localhost:8080/",
          "height": 34
        }
      },
      "source": [
        "from google.colab import drive\n",
        "drive.mount('/content/drive')"
      ],
      "execution_count": 52,
      "outputs": [
        {
          "output_type": "stream",
          "text": [
            "Drive already mounted at /content/drive; to attempt to forcibly remount, call drive.mount(\"/content/drive\", force_remount=True).\n"
          ],
          "name": "stdout"
        }
      ]
    },
    {
      "cell_type": "code",
      "metadata": {
        "id": "ZTnfmst3lWHf",
        "colab_type": "code",
        "outputId": "54994889-0307-4065-d9a1-85f6ab49616a",
        "colab": {
          "base_uri": "https://localhost:8080/",
          "height": 301
        }
      },
      "source": [
        "# visualizing the airline fare price\n",
        "sns.distplot(train_df['Fare'])"
      ],
      "execution_count": 53,
      "outputs": [
        {
          "output_type": "execute_result",
          "data": {
            "text/plain": [
              "<matplotlib.axes._subplots.AxesSubplot at 0x7fae71dd54e0>"
            ]
          },
          "metadata": {
            "tags": []
          },
          "execution_count": 53
        },
        {
          "output_type": "display_data",
          "data": {
            "image/png": "[encoded data removed]",
            "text/plain": [
              "<Figure size 432x288 with 1 Axes>"
            ]
          },
          "metadata": {
            "tags": []
          }
        }
      ]
    },
    {
      "cell_type": "code",
      "metadata": {
        "id": "bG1BuYcXlWU6",
        "colab_type": "code",
        "outputId": "b58b3ce8-5666-408f-8644-25da0eac51ae",
        "colab": {
          "base_uri": "https://localhost:8080/",
          "height": 348
        }
      },
      "source": [
        "# plotting heat map of correlation among features\n",
        "corrmat = train_df.corr()\n",
        "sns.heatmap(corrmat,vmax=.8, square=True)"
      ],
      "execution_count": 54,
      "outputs": [
        {
          "output_type": "execute_result",
          "data": {
            "text/plain": [
              "<matplotlib.axes._subplots.AxesSubplot at 0x7fae71d822b0>"
            ]
          },
          "metadata": {
            "tags": []
          },
          "execution_count": 54
        },
        {
          "output_type": "display_data",
          "data": {
            "image/png": "[encoded data removed]",
            "text/plain": [
              "<Figure size 432x288 with 2 Axes>"
            ]
          },
          "metadata": {
            "tags": []
          }
        }
      ]
    },
    {
      "cell_type": "markdown",
      "metadata": {
        "id": "fipyC1XEYsXZ",
        "colab_type": "text"
      },
      "source": [
        "In my opinion, this heatmap is the best way to get a quick overview of our 'plasma soup' and its relationships."
      ]
    },
    {
      "cell_type": "code",
      "metadata": {
        "id": "p5jfeZUJlWfm",
        "colab_type": "code",
        "colab": {}
      },
      "source": [
        "# Selecting Features and Labels\n",
        "X = np.asanyarray(train_df[['Class',\t'Age',\t'time',\t'adv_bookdays',\t'weekday',\t'month',\t'monthday',\t'demand',\t'from_ind',\t'to_ind']])\n",
        "Y = np.asanyarray(train_df['Fare'])\n"
      ],
      "execution_count": 0,
      "outputs": []
    },
    {
      "cell_type": "code",
      "metadata": {
        "id": "3FxHIUSylWoA",
        "colab_type": "code",
        "colab": {
          "base_uri": "https://localhost:8080/",
          "height": 34
        },
        "outputId": "6281de5e-003c-4275-fe8d-feb21a116110"
      },
      "source": [
        "# Splitting the dataset in train and test file\n",
        "from sklearn.model_selection import train_test_split\n",
        "X_train, X_test, Y_train, Y_test = train_test_split(X,Y,random_state = 42, test_size=0.3)\n",
        "X_train.shape, Y_train.shape, X_test.shape"
      ],
      "execution_count": 56,
      "outputs": [
        {
          "output_type": "execute_result",
          "data": {
            "text/plain": [
              "((3499, 10), (3499,), (1500, 10))"
            ]
          },
          "metadata": {
            "tags": []
          },
          "execution_count": 56
        }
      ]
    },
    {
      "cell_type": "code",
      "metadata": {
        "id": "_VzSVArPlWul",
        "colab_type": "code",
        "outputId": "24642756-fd5b-49ad-d487-4ff4f17aa41b",
        "colab": {
          "base_uri": "https://localhost:8080/",
          "height": 105
        }
      },
      "source": [
        "# making pipeline\n",
        "from sklearn.preprocessing import StandardScaler, PolynomialFeatures\n",
        "from sklearn.pipeline import Pipeline,make_pipeline\n",
        "\n",
        "steps = [('scalar', StandardScaler()),('poly', PolynomialFeatures(degree=2)),('model',xgb.XGBRegressor())]\n",
        "pipeline = Pipeline(steps)\n",
        "pipeline.fit(X_train,Y_train)\n",
        "\n",
        "# or we can do the above job in just 1 line of code\n",
        "t = make_pipeline(StandardScaler(),PolynomialFeatures(degree=2),RandomForestRegressor()).fit(X_train,Y_train)\n",
        "\n",
        "\n",
        "print('training score :{}'.format(pipeline.score(X_train,Y_train)))\n",
        "print('test score :{}'.format(pipeline.score(X_test,Y_test)))\n",
        "\n",
        "print('Training score: {}'.format(t.score(X_train,Y_train)))\n",
        "print('test score: {}'.format(t.score(X_test, Y_test)))"
      ],
      "execution_count": 57,
      "outputs": [
        {
          "output_type": "stream",
          "text": [
            "[07:35:51] WARNING: /workspace/src/objective/regression_obj.cu:152: reg:linear is now deprecated in favor of reg:squarederror.\n",
            "training score :0.8788700866782061\n",
            "test score :0.8110820994882829\n",
            "Training score: 0.9619698184640749\n",
            "test score: 0.7445938048430585\n"
          ],
          "name": "stdout"
        }
      ]
    },
    {
      "cell_type": "code",
      "metadata": {
        "id": "bb2ysxsalW16",
        "colab_type": "code",
        "outputId": "e30f0210-f056-430e-d52b-6c7b3d7f2507",
        "colab": {
          "base_uri": "https://localhost:8080/",
          "height": 52
        }
      },
      "source": [
        "y_pred = pipeline.predict(X_test)\n",
        "\n",
        "from sklearn.metrics import mean_squared_error,r2_score\n",
        "import math\n",
        "\n",
        "mse = mean_squared_error(Y_test,y_pred)\n",
        "rmse = math.sqrt(mse)\n",
        "r2score = r2_score(Y_test,y_pred)\n",
        "\n",
        "\n",
        "print('rmse: {}'.format(rmse))\n",
        "print('r2score: {}'.format(r2score))"
      ],
      "execution_count": 58,
      "outputs": [
        {
          "output_type": "stream",
          "text": [
            "rmse: 2817.857545880714\n",
            "r2score: 0.8110820994882829\n"
          ],
          "name": "stdout"
        }
      ]
    }
  ]
}